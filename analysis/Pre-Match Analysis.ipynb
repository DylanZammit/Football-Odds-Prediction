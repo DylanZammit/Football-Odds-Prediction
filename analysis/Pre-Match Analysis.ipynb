{
 "cells": [
  {
   "cell_type": "markdown",
   "id": "6134fbdb-5ca4-459e-9e2c-33745b79695b",
   "metadata": {},
   "source": [
    "# Structure\n",
    "* Perform basic analysis: counts, means, std max etc\n",
    "* Basic EDA to understand data dynamics: distribution of the model, independence\n",
    "* Statistical tests to confirm\n",
    "  * Goals are Poisson distributed\n",
    "  * In/dependece between home/away goals\n",
    "  * Significant difference between home/away goals\n",
    "Assumptions for model by Dixon are satisfied and we can proceed to implement the model to estimate probabilities of team encounters"
   ]
  },
  {
   "cell_type": "code",
   "execution_count": 2,
   "id": "dcb44870-4755-4ab1-a1b1-777f05bce3fc",
   "metadata": {},
   "outputs": [
    {
     "ename": "ModuleNotFoundError",
     "evalue": "No module named 'football_odds'",
     "output_type": "error",
     "traceback": [
      "\u001b[1;31m---------------------------------------------------------------------------\u001b[0m",
      "\u001b[1;31mModuleNotFoundError\u001b[0m                       Traceback (most recent call last)",
      "Cell \u001b[1;32mIn[2], line 1\u001b[0m\n\u001b[1;32m----> 1\u001b[0m \u001b[38;5;28;01mfrom\u001b[39;00m \u001b[38;5;21;01mfootball_odds\u001b[39;00m\u001b[38;5;21;01m.\u001b[39;00m\u001b[38;5;21;01mutils\u001b[39;00m\u001b[38;5;21;01m.\u001b[39;00m\u001b[38;5;21;01mconnectors\u001b[39;00m \u001b[38;5;28;01mimport\u001b[39;00m QuestDB\n\u001b[0;32m      2\u001b[0m \u001b[38;5;28;01mimport\u001b[39;00m \u001b[38;5;21;01mmatplotlib\u001b[39;00m\u001b[38;5;21;01m.\u001b[39;00m\u001b[38;5;21;01mpyplot\u001b[39;00m \u001b[38;5;28;01mas\u001b[39;00m \u001b[38;5;21;01mplt\u001b[39;00m\n\u001b[0;32m      3\u001b[0m \u001b[38;5;28;01mimport\u001b[39;00m \u001b[38;5;21;01mpandas\u001b[39;00m \u001b[38;5;28;01mas\u001b[39;00m \u001b[38;5;21;01mpd\u001b[39;00m\n",
      "\u001b[1;31mModuleNotFoundError\u001b[0m: No module named 'football_odds'"
     ]
    }
   ],
   "source": [
    "from football_odds.utils.connectors import QuestDB\n",
    "import matplotlib.pyplot as plt\n",
    "import pandas as pd\n",
    "import numpy as np\n",
    "from scipy.stats import mannwhitneyu, poisson_means_test, poisson, chisquare, chi2_contingency"
   ]
  },
  {
   "cell_type": "code",
   "execution_count": null,
   "id": "278536fe-0363-41dd-930f-ac1d9d950859",
   "metadata": {},
   "outputs": [],
   "source": [
    "Q = r'''\n",
    "select\n",
    "  dlf.league_name, \n",
    "  dlf.season,\n",
    "  dff.fixture_date,\n",
    "  dtfh.team_name as home_team_name, \n",
    "  dtfa.team_name as away_team_name, \n",
    "  dff.teams_home_winner, \n",
    "  dff.goals_home, \n",
    "  dff.goals_away,\n",
    "from dim_fixtures_fa dff\n",
    "inner join dim_leagues_fa dlf\n",
    "  on dlf.league_id = dff.league_id and dff.league_season = dlf.season\n",
    "inner join dim_teams_fa dtfh\n",
    "  on dtfh.team_id = dff.teams_home_id\n",
    "inner join dim_teams_fa dtfa\n",
    "  on dtfa.team_id = dff.teams_away_id\n",
    "where 1=1\n",
    "  and dlf.league_name IN ('Premier League')\n",
    "  and goals_home is not null and goals_away is not null\n",
    "  and season >= 2021\n",
    ";\n",
    "'''\n",
    "\n",
    "conn = QuestDB()\n",
    "\n",
    "df = conn.execute_query(Q)\n",
    "df['goal_difference'] = (df.goals_home - df.goals_away).abs()\n",
    "df['total_goals'] = (df.goals_home + df.goals_away)"
   ]
  },
  {
   "cell_type": "code",
   "execution_count": null,
   "id": "fe163af2-3718-4e4f-810c-e31beac76745",
   "metadata": {},
   "outputs": [],
   "source": [
    "df.describe()"
   ]
  },
  {
   "cell_type": "markdown",
   "id": "1a989529-e1fd-463a-9265-feaf8af17249",
   "metadata": {},
   "source": [
    "## Summary Statistics\n",
    "\n",
    "* We have a sample size of 860 games\n",
    "* An average of 2.9 goals are scored per match\n",
    "* The average number of home goals is almost 1.6 while away goals are 1.3. Is this statistically significant?\n",
    "* The variation of home goals is slightly larger than that of away goals. How can this impact the results?\n",
    "* The Liverpool-Bournmouth 2022-08-27 match ended 9-0, the largest number of home goals scored\n",
    "* The Sheffield-Newcastle 2023-09-23 match ended 9-0, the largest number of home goals scored\n",
    "* Should we truncate the high goals scored to something more reasonable to not skew the results? How to test this?"
   ]
  },
  {
   "cell_type": "code",
   "execution_count": null,
   "id": "9546509c-60b6-4369-a1bf-8fcb08cef750",
   "metadata": {},
   "outputs": [],
   "source": [
    "df.sort_values('goals_home', ascending=False).head(8)"
   ]
  },
  {
   "cell_type": "code",
   "execution_count": null,
   "id": "2c44b2e2-f12c-46c4-9183-ab8ac3f8a6bf",
   "metadata": {},
   "outputs": [],
   "source": [
    "df.sort_values('goals_away', ascending=False).head(8)"
   ]
  },
  {
   "cell_type": "code",
   "execution_count": null,
   "id": "207767a0-70a0-419a-a1d5-890271114080",
   "metadata": {},
   "outputs": [],
   "source": [
    "df.sort_values('goals_away', ascending=False).head(8)"
   ]
  },
  {
   "cell_type": "code",
   "execution_count": null,
   "id": "5be1dcc3-e8f7-4c5f-b2b9-2d54ce2a770c",
   "metadata": {},
   "outputs": [],
   "source": [
    "fig, ax = plt.subplots(2, 1, figsize=(15, 15))\n",
    "\n",
    "# Highest average scoring teams\n",
    "df_home = df[['home_team_name', 'goals_home']].rename({'home_team_name': 'team', 'goals_home': 'goals'}, axis=1)\n",
    "df_away = df[['away_team_name', 'goals_away']].rename({'away_team_name': 'team', 'goals_away': 'goals'}, axis=1)\n",
    "df_team_goals = pd.concat([df_home, df_away])\n",
    "df_team_goals.groupby('team').mean().sort_values('goals').plot.bar(ax=ax[0])\n",
    "ax[0].grid()\n",
    "ax[0].set_title('Average number of goals per team')\n",
    "ax[0].tick_params(axis='x', labelrotation=45)\n",
    "\n",
    "# Highest average conceding teams\n",
    "df_home = df[['home_team_name', 'goals_away']].rename({'home_team_name': 'team', 'goals_away': 'goals'}, axis=1)\n",
    "df_away = df[['away_team_name', 'goals_home']].rename({'away_team_name': 'team', 'goals_home': 'goals'}, axis=1)\n",
    "df_team_conceded = pd.concat([df_home, df_away])\n",
    "df_team_conceded.groupby('team').mean().sort_values('goals').plot.bar(ax=ax[1])\n",
    "ax[1].grid()\n",
    "ax[1].set_title('Average number of conceded goals per team')\n",
    "ax[1].tick_params(axis='x', labelrotation=45)"
   ]
  },
  {
   "cell_type": "code",
   "execution_count": null,
   "id": "938abb7d-48bd-4967-89a7-c4e1ee2566d4",
   "metadata": {},
   "outputs": [],
   "source": [
    "# home/away avg goals\n",
    "avg_home_goals = df.goals_home.mean()\n",
    "avg_away_goals = df.goals_away.mean()\n",
    "plt.bar(['home', 'away'], [avg_home_goals, avg_away_goals], color=['blue', 'green'])\n",
    "plt.title('Average number of home and away goals per match')\n",
    "plt.xticks(rotation=45)\n",
    "plt.grid()"
   ]
  },
  {
   "cell_type": "code",
   "execution_count": null,
   "id": "6252eb85-dbce-4280-adba-070902937db2",
   "metadata": {},
   "outputs": [],
   "source": [
    "df.goals_home.hist(alpha=0.4, label='home', color='blue')\n",
    "df.goals_away.hist(alpha=0.4, label='away', color='orange')\n",
    "plt.title('Home/Away goals scored histogram')\n",
    "plt.axvline(x=avg_home_goals, color='blue', alpha=0.4)\n",
    "plt.axvline(x=avg_away_goals, color='orange', alpha=0.4)\n",
    "plt.legend()"
   ]
  },
  {
   "cell_type": "markdown",
   "id": "7741ed89-cd9a-4a74-a564-f13b7affbd3d",
   "metadata": {},
   "source": [
    "## Poisson Test\n",
    "We confirm that the Poisson distribution is a valid distribution for the number of home/away goals"
   ]
  },
  {
   "cell_type": "code",
   "execution_count": null,
   "id": "0dfc0ece-98f0-4be4-86fd-3b5474e7b420",
   "metadata": {},
   "outputs": [],
   "source": [
    "MLE = df.goals_home.mean()\n",
    "n_games = len(df)\n",
    "f_obs = pd.value_counts(df.goals_home).sort_index().values\n",
    "f_exp = poisson.pmf(list(range(0, df.goals_home.max()+1)), MLE) * n_games\n",
    "f_exp = np.sum(f_obs) / np.sum(f_exp) * f_exp\n",
    "    \n",
    "stat, pval = chisquare(f_obs=f_obs, f_exp=f_exp)\n",
    "print(f'HOME: Pearson Chi-square p-value={pval} > 0.05')\n",
    "\n",
    "MLE = df.goals_away.mean()\n",
    "n_games = len(df)\n",
    "f_obs = pd.value_counts(df.goals_away).sort_index().values\n",
    "f_exp = poisson.pmf(list(range(0, df.goals_away.max()+1)), MLE) * n_games\n",
    "f_exp = np.sum(f_obs) / np.sum(f_exp) * f_exp\n",
    "    \n",
    "stat, pval = chisquare(f_obs=f_obs, f_exp=f_exp)\n",
    "print(f'AWAY: Pearson Chi-square p-value={pval} > 0.05')"
   ]
  },
  {
   "cell_type": "markdown",
   "id": "ba61519f-ca53-4d77-b63f-d4a88e308454",
   "metadata": {},
   "source": [
    "## Test for Independence\n",
    "Chi-Square test assumptions:\n",
    "* The two samples are independent\r",
    "* No expected cell count is = 0\n",
    "* \n",
    "No more than 20% of the cells have and expected cell count  \n",
    "\n",
    "\n",
    "### Hypothesis\n",
    "H0: Variables Independent\n",
    "H1: Variables Dependent\n",
    "\n",
    "After considering only matches with 4 or less goals (95% of all matches) to not violate point 3, we use the Chi-square test and get a p-value of 0.13 > 0.05. There we cannot reject H0, ie. that variables are independent\n",
    "\n",
    "For details see https://www.pythonfordatascience.org/chi-square-test-of-independence-python/ "
   ]
  },
  {
   "cell_type": "code",
   "execution_count": null,
   "id": "af4c31ef-9632-40fc-ba64-d8f6f9e6afe6",
   "metadata": {},
   "outputs": [],
   "source": [
    "n = 5\n",
    "num_lt_n_goals = df[(df.goals_away <= n)&(df.goals_home <= n)].league_name.count()\n",
    "num_games = len(df)\n",
    "print(f'{num_lt_n_goals} outof {num_games} games ({int(num_lt_n_goals/num_games*100)}%) contain less than {n} goals for both teams')"
   ]
  },
  {
   "cell_type": "code",
   "execution_count": null,
   "id": "f0ed6947-f2be-435a-bfcf-584e6eb73e37",
   "metadata": {},
   "outputs": [],
   "source": [
    "crosstab = pd.crosstab(df.goals_home, df.goals_away)\n",
    "crosstab"
   ]
  },
  {
   "cell_type": "code",
   "execution_count": null,
   "id": "3b4d5043-51db-43d9-8e28-d1255369806d",
   "metadata": {},
   "outputs": [],
   "source": [
    "crosstab = crosstab.iloc[:n, :n]\n",
    "crosstab"
   ]
  },
  {
   "cell_type": "code",
   "execution_count": null,
   "id": "b3a8a904-d1e5-4bf4-8022-401b56e46797",
   "metadata": {},
   "outputs": [],
   "source": [
    "res = chi2_contingency(crosstab)\n",
    "print(f'Chi-square test p-value = {res.pvalue:.2f} > 0.05')"
   ]
  },
  {
   "cell_type": "markdown",
   "id": "3e25cd46-b5d3-4a13-b3fb-040e8ad2c6a8",
   "metadata": {},
   "source": [
    "## Home Advantage significance\n",
    "* 24% More home goals scored than away goals\n",
    "* Mann-Whitney-U: Since p-value < 0.05, we reject null hypothesis, i.e. the home goals scored are statistically greater than the away goals\n",
    "* Further confirmed by E-test, assuming goals are Poisson distributed: p-value < 0.05"
   ]
  },
  {
   "cell_type": "code",
   "execution_count": null,
   "id": "dae76b26-ccb2-4410-b1d4-be8fc0f424d8",
   "metadata": {},
   "outputs": [],
   "source": [
    "print('Home Advantage: {:.2f}'.format(avg_home_goals / avg_away_goals))\n",
    "res = mannwhitneyu(df.goals_home, df.goals_away, alternative='greater')\n",
    "print(f'MWU-test p-value = {res.pvalue}')"
   ]
  },
  {
   "cell_type": "code",
   "execution_count": null,
   "id": "0dcebd73-d02c-47ba-9eb0-5938a9767ca8",
   "metadata": {},
   "outputs": [],
   "source": [
    "res = poisson_means_test(df.goals_home.sum(), df.goals_home.count(), df.goals_away.sum(), df.goals_away.count())\n",
    "print(f'E-test p-value = {res.pvalue}')"
   ]
  }
 ],
 "metadata": {
  "kernelspec": {
   "display_name": "Python 3 (ipykernel)",
   "language": "python",
   "name": "python3"
  },
  "language_info": {
   "codemirror_mode": {
    "name": "ipython",
    "version": 3
   },
   "file_extension": ".py",
   "mimetype": "text/x-python",
   "name": "python",
   "nbconvert_exporter": "python",
   "pygments_lexer": "ipython3",
   "version": "3.8.18"
  }
 },
 "nbformat": 4,
 "nbformat_minor": 5
}
